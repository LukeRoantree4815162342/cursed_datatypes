{
 "cells": [
  {
   "cell_type": "code",
   "execution_count": 2,
   "id": "2e4295cd",
   "metadata": {},
   "outputs": [
    {
     "name": "stdout",
     "output_type": "stream",
     "text": [
      "1\n",
      "3\n",
      "5.66666\n",
      "[1, 3, 5, 7]\n",
      "[1.9120000000000001, 3.912, 5.912, 7.911999999999999, 9.912, 11.912]\n",
      "[7.0, 7.5, 8.0, 8.5, 9.0, 9.5, 10.0, 10.5, 11.0, 11.5, 12.0, 12.5, 13.0, 13.5, 14.0, 14.5]\n",
      "[3.2, 4.2, 5.200000000000001, 6.200000000000001, 7.199999999999999, 8.2, 9.2, 10.2]\n",
      "[7.0, 8.2, 9.4, 10.599999999999998, 11.8]\n",
      "[15.0, 12.0, 9.0]\n",
      "[6.4, 7.600000000000001, 8.8, 10.0, 11.2]\n"
     ]
    }
   ],
   "source": [
    "from cursed_datatypes import cursed_list\n",
    "\n",
    "example = cursed_list([1,3,5,7,9,11,13,15])\n",
    "print(example[0],\n",
    "      example[1],\n",
    "      example[2.33333],\n",
    "      example[:4.123],\n",
    "      example[0.456:6.89],\n",
    "      example[3:7:0.25],\n",
    "      example[1.1:5.5:0.5],\n",
    "      example[-5:-2:0.6],\n",
    "      example[-1:2:-1.5],\n",
    "      example[-5.3:-2.3:0.6],\n",
    "      sep='\\n')"
   ]
  },
  {
   "cell_type": "code",
   "execution_count": null,
   "id": "a8cf8f56",
   "metadata": {},
   "outputs": [],
   "source": []
  }
 ],
 "metadata": {
  "kernelspec": {
   "display_name": "Python 3 (ipykernel)",
   "language": "python",
   "name": "python3"
  },
  "language_info": {
   "codemirror_mode": {
    "name": "ipython",
    "version": 3
   },
   "file_extension": ".py",
   "mimetype": "text/x-python",
   "name": "python",
   "nbconvert_exporter": "python",
   "pygments_lexer": "ipython3",
   "version": "3.9.7"
  }
 },
 "nbformat": 4,
 "nbformat_minor": 5
}
